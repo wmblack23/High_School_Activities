{
 "cells": [
  {
   "cell_type": "code",
   "execution_count": null,
   "metadata": {
    "scrolled": true
   },
   "outputs": [],
   "source": [
    "import pandas as pd\n",
    "import os\n",
    "\n",
    "df = pd.read_excel('Applicants with Interests 2021.xlsx').fillna(' ')\n",
    "[df.drop(i, axis = 1, inplace=True) for i in df.columns if \"Type\" in i]\n",
    "unique_cols = (df[df.columns[df.columns.get_loc('Interest Name'):]].apply(lambda x: ''.join(x.dropna()\n",
    "                    .astype(str)), axis=1).str.strip().str.lower().tolist())\n",
    "[df.drop(i, axis = 1, inplace=True) for i in df.columns if \"Interest\" in i]\n",
    "df['Activities'] = unique_cols"
   ]
  },
  {
   "cell_type": "code",
   "execution_count": null,
   "metadata": {},
   "outputs": [],
   "source": [
    "\"\"\"\n",
    "\n",
    "Example Query:\n",
    "\n",
    "'Please show me all of the students from California, Oregon or Washington who take part in EITHER Student\n",
    "Government or Student Council.'\n",
    "\n",
    "\"\"\"\n",
    "\n",
    "cali = df['Active Region'] == 'CA'\n",
    "oregon = df['Active Region'] == 'OR'\n",
    "washington = df['Active Region'] == 'WA'\n",
    "stugov = df['Activities'].str.contains('Student Government', case=False) \n",
    "stucouncil = df['Activities'].str.contains('Student Council', case = False)\n",
    "\n",
    "df[(cali | oregon | washington) & (stugov | stucouncil)].loc[:, 'Ref':'Decision #1 Released Date']"
   ]
  },
  {
   "cell_type": "code",
   "execution_count": null,
   "metadata": {},
   "outputs": [],
   "source": []
  }
 ],
 "metadata": {
  "kernelspec": {
   "display_name": "Python 3",
   "language": "python",
   "name": "python3"
  },
  "language_info": {
   "codemirror_mode": {
    "name": "ipython",
    "version": 3
   },
   "file_extension": ".py",
   "mimetype": "text/x-python",
   "name": "python",
   "nbconvert_exporter": "python",
   "pygments_lexer": "ipython3",
   "version": "3.8.5"
  }
 },
 "nbformat": 4,
 "nbformat_minor": 4
}
